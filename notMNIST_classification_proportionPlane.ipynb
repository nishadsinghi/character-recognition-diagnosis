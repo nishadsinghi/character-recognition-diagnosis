{
 "cells": [
  {
   "cell_type": "markdown",
   "metadata": {
    "colab_type": "text",
    "id": "UuRoN0MioUI6"
   },
   "source": [
    "Import Libraries"
   ]
  },
  {
   "cell_type": "code",
   "execution_count": 1,
   "metadata": {
    "colab": {
     "base_uri": "https://localhost:8080/",
     "height": 105
    },
    "colab_type": "code",
    "id": "HTLXxaAygsWR",
    "outputId": "7a0c7d28-beb4-44e8-8f57-9b345a17e744"
   },
   "outputs": [
    {
     "name": "stderr",
     "output_type": "stream",
     "text": [
      "Using TensorFlow backend.\n",
      "/anaconda3/envs/MLEnv/lib/python3.7/site-packages/tensorflow/python/framework/dtypes.py:516: FutureWarning: Passing (type, 1) or '1type' as a synonym of type is deprecated; in a future version of numpy, it will be understood as (type, (1,)) / '(1,)type'.\n",
      "  _np_qint8 = np.dtype([(\"qint8\", np.int8, 1)])\n",
      "/anaconda3/envs/MLEnv/lib/python3.7/site-packages/tensorflow/python/framework/dtypes.py:517: FutureWarning: Passing (type, 1) or '1type' as a synonym of type is deprecated; in a future version of numpy, it will be understood as (type, (1,)) / '(1,)type'.\n",
      "  _np_quint8 = np.dtype([(\"quint8\", np.uint8, 1)])\n",
      "/anaconda3/envs/MLEnv/lib/python3.7/site-packages/tensorflow/python/framework/dtypes.py:518: FutureWarning: Passing (type, 1) or '1type' as a synonym of type is deprecated; in a future version of numpy, it will be understood as (type, (1,)) / '(1,)type'.\n",
      "  _np_qint16 = np.dtype([(\"qint16\", np.int16, 1)])\n",
      "/anaconda3/envs/MLEnv/lib/python3.7/site-packages/tensorflow/python/framework/dtypes.py:519: FutureWarning: Passing (type, 1) or '1type' as a synonym of type is deprecated; in a future version of numpy, it will be understood as (type, (1,)) / '(1,)type'.\n",
      "  _np_quint16 = np.dtype([(\"quint16\", np.uint16, 1)])\n",
      "/anaconda3/envs/MLEnv/lib/python3.7/site-packages/tensorflow/python/framework/dtypes.py:520: FutureWarning: Passing (type, 1) or '1type' as a synonym of type is deprecated; in a future version of numpy, it will be understood as (type, (1,)) / '(1,)type'.\n",
      "  _np_qint32 = np.dtype([(\"qint32\", np.int32, 1)])\n",
      "/anaconda3/envs/MLEnv/lib/python3.7/site-packages/tensorflow/python/framework/dtypes.py:525: FutureWarning: Passing (type, 1) or '1type' as a synonym of type is deprecated; in a future version of numpy, it will be understood as (type, (1,)) / '(1,)type'.\n",
      "  np_resource = np.dtype([(\"resource\", np.ubyte, 1)])\n",
      "/anaconda3/envs/MLEnv/lib/python3.7/site-packages/tensorboard/compat/tensorflow_stub/dtypes.py:541: FutureWarning: Passing (type, 1) or '1type' as a synonym of type is deprecated; in a future version of numpy, it will be understood as (type, (1,)) / '(1,)type'.\n",
      "  _np_qint8 = np.dtype([(\"qint8\", np.int8, 1)])\n",
      "/anaconda3/envs/MLEnv/lib/python3.7/site-packages/tensorboard/compat/tensorflow_stub/dtypes.py:542: FutureWarning: Passing (type, 1) or '1type' as a synonym of type is deprecated; in a future version of numpy, it will be understood as (type, (1,)) / '(1,)type'.\n",
      "  _np_quint8 = np.dtype([(\"quint8\", np.uint8, 1)])\n",
      "/anaconda3/envs/MLEnv/lib/python3.7/site-packages/tensorboard/compat/tensorflow_stub/dtypes.py:543: FutureWarning: Passing (type, 1) or '1type' as a synonym of type is deprecated; in a future version of numpy, it will be understood as (type, (1,)) / '(1,)type'.\n",
      "  _np_qint16 = np.dtype([(\"qint16\", np.int16, 1)])\n",
      "/anaconda3/envs/MLEnv/lib/python3.7/site-packages/tensorboard/compat/tensorflow_stub/dtypes.py:544: FutureWarning: Passing (type, 1) or '1type' as a synonym of type is deprecated; in a future version of numpy, it will be understood as (type, (1,)) / '(1,)type'.\n",
      "  _np_quint16 = np.dtype([(\"quint16\", np.uint16, 1)])\n",
      "/anaconda3/envs/MLEnv/lib/python3.7/site-packages/tensorboard/compat/tensorflow_stub/dtypes.py:545: FutureWarning: Passing (type, 1) or '1type' as a synonym of type is deprecated; in a future version of numpy, it will be understood as (type, (1,)) / '(1,)type'.\n",
      "  _np_qint32 = np.dtype([(\"qint32\", np.int32, 1)])\n",
      "/anaconda3/envs/MLEnv/lib/python3.7/site-packages/tensorboard/compat/tensorflow_stub/dtypes.py:550: FutureWarning: Passing (type, 1) or '1type' as a synonym of type is deprecated; in a future version of numpy, it will be understood as (type, (1,)) / '(1,)type'.\n",
      "  np_resource = np.dtype([(\"resource\", np.ubyte, 1)])\n"
     ]
    },
    {
     "name": "stdout",
     "output_type": "stream",
     "text": [
      "env: JOBLIB_TEMP_FOLDER=/tmp\n"
     ]
    }
   ],
   "source": [
    "import numpy as np\n",
    "import os\n",
    "import sys\n",
    "import matplotlib.pyplot as plt\n",
    "plt.style.use('seaborn-white')\n",
    "from PIL import Image\n",
    "import PIL\n",
    "# import cv2\n",
    "\n",
    "import keras\n",
    "from keras.preprocessing.image import load_img\n",
    "from keras.models import Model, Sequential\n",
    "from keras.layers import Input, Dense, Dropout, Activation, BatchNormalization, AveragePooling2D\n",
    "from keras.layers import Reshape, Flatten\n",
    "from keras.layers import Conv2D, MaxPooling2D\n",
    "from keras.utils import to_categorical\n",
    "from keras.utils import np_utils\n",
    "from keras.regularizers import l1_l2\n",
    "from keras.callbacks import ModelCheckpoint, EarlyStopping, ReduceLROnPlateau\n",
    "from sklearn.metrics import confusion_matrix\n",
    "\n",
    "%matplotlib inline\n",
    "%env JOBLIB_TEMP_FOLDER=/tmp"
   ]
  },
  {
   "cell_type": "markdown",
   "metadata": {
    "colab_type": "text",
    "id": "m9cq0RONP_rS"
   },
   "source": [
    "MODEL"
   ]
  },
  {
   "cell_type": "code",
   "execution_count": 2,
   "metadata": {
    "colab": {},
    "colab_type": "code",
    "id": "OnzYLXbCN-SH"
   },
   "outputs": [],
   "source": [
    "# parameters\n",
    "batch_size = 128\n",
    "nb_classes = 10\n",
    "nb_epoch = 200\n",
    "input_dim = 32*32\n",
    "resolution = 32\n",
    "reg = l1_l2(l1=0, l2=0.02)"
   ]
  },
  {
   "cell_type": "markdown",
   "metadata": {
    "colab_type": "text",
    "id": "w4o6Sk0DRjh4"
   },
   "source": [
    "LeNet-5"
   ]
  },
  {
   "cell_type": "code",
   "execution_count": 3,
   "metadata": {
    "colab": {},
    "colab_type": "code",
    "id": "QjYiix8QRsV7"
   },
   "outputs": [],
   "source": [
    "# define path to save model\n",
    "model_path = './LeNet_notMNIST.h5'\n",
    "# prepare callbacks\n",
    "callbacks = [\n",
    "    EarlyStopping(\n",
    "        monitor='val_accuracy', \n",
    "        patience=20,\n",
    "        mode='max',\n",
    "        verbose=1),\n",
    "    ModelCheckpoint(model_path,\n",
    "        monitor='val_accuracy', \n",
    "        save_best_only=True, \n",
    "        mode='max',\n",
    "        verbose=1),\n",
    "    ReduceLROnPlateau(\n",
    "        factor=0.1, \n",
    "        patience=5, \n",
    "        min_lr=0.00001, \n",
    "        verbose=1)\n",
    "]"
   ]
  },
  {
   "cell_type": "code",
   "execution_count": 4,
   "metadata": {
    "colab": {},
    "colab_type": "code",
    "id": "MKOrYllQQPbQ"
   },
   "outputs": [
    {
     "name": "stdout",
     "output_type": "stream",
     "text": [
      "WARNING:tensorflow:From /anaconda3/envs/MLEnv/lib/python3.7/site-packages/keras/backend/tensorflow_backend.py:4074: The name tf.nn.avg_pool is deprecated. Please use tf.nn.avg_pool2d instead.\n",
      "\n"
     ]
    }
   ],
   "source": [
    "model = keras.Sequential()\n",
    "\n",
    "model.add(Conv2D(filters=6, kernel_size=(3, 3), activation='relu', input_shape=(32,32,1)))\n",
    "model.add(BatchNormalization())\n",
    "\n",
    "model.add(AveragePooling2D())\n",
    "\n",
    "model.add(Conv2D(filters=16, kernel_size=(3, 3), activation='relu'))\n",
    "model.add(BatchNormalization())\n",
    "\n",
    "model.add(AveragePooling2D())\n",
    "\n",
    "model.add(Dropout(0.2))\n",
    "model.add(Flatten())\n",
    "\n",
    "model.add(Dense(units=120, activation='relu', kernel_regularizer=reg))\n",
    "model.add(BatchNormalization())\n",
    "model.add(Dropout(0.2))\n",
    "\n",
    "model.add(Dense(units=84, activation='relu'))\n",
    "model.add(BatchNormalization())\n",
    "model.add(Dropout(0.2))\n",
    "\n",
    "model.add(Dense(units=10, activation = 'softmax'))"
   ]
  },
  {
   "cell_type": "markdown",
   "metadata": {
    "colab_type": "text",
    "id": "qutD-UQTVPaU"
   },
   "source": [
    "Compile and fit the model"
   ]
  },
  {
   "cell_type": "code",
   "execution_count": 5,
   "metadata": {
    "colab": {
     "base_uri": "https://localhost:8080/",
     "height": 446
    },
    "colab_type": "code",
    "id": "gayk2_DxjuoW",
    "outputId": "2861071f-c195-4615-b2ae-027d5a40827d"
   },
   "outputs": [],
   "source": [
    "model.load_weights(\"LeNet_notMNIST.h5\")\n",
    "model.compile(loss='categorical_crossentropy', optimizer='adadelta', metrics=['accuracy'])"
   ]
  },
  {
   "cell_type": "markdown",
   "metadata": {
    "colab_type": "text",
    "id": "r53TPLGamd6T"
   },
   "source": [
    "Evaluate the accuracy on the images used to create bubbles dataset"
   ]
  },
  {
   "cell_type": "code",
   "execution_count": 6,
   "metadata": {
    "colab": {},
    "colab_type": "code",
    "id": "uhaOAnygf4il"
   },
   "outputs": [],
   "source": [
    "def fullprint(*args, **kwargs):\n",
    "  from pprint import pprint\n",
    "  import numpy\n",
    "  opt = numpy.get_printoptions()\n",
    "  numpy.set_printoptions(threshold=numpy.inf)\n",
    "  pprint(*args, **kwargs)\n",
    "  numpy.set_printoptions(**opt)"
   ]
  },
  {
   "cell_type": "code",
   "execution_count": 6,
   "metadata": {
    "colab": {},
    "colab_type": "code",
    "id": "MW1qx9-eqSs0"
   },
   "outputs": [],
   "source": [
    "def cleanGrayscaleImage(image):\n",
    "  # maxValue = np.amax(image)\n",
    "  for i in range(np.shape(image)[0]):\n",
    "    for j in range(np.shape(image)[1]):\n",
    "      if image[i][j] < 0:\n",
    "        image[i][j] = 0\n",
    "  # normalizedImage = image*(255/int(maxValue))\n",
    "  scaledImageAsInt = image.astype(np.int16)\n",
    "\n",
    "  return scaledImageAsInt"
   ]
  },
  {
   "cell_type": "code",
   "execution_count": 197,
   "metadata": {
    "colab": {
     "base_uri": "https://localhost:8080/",
     "height": 527
    },
    "colab_type": "code",
    "id": "Fnfh7K6DoVzU",
    "outputId": "88d23a42-e6c2-45e9-b469-142519d516ec",
    "scrolled": true
   },
   "outputs": [],
   "source": [
    "# DATA_PATH = '/content/drive/My Drive/large_bubbles_slim_font_with_filters'\n",
    "\n",
    "# X = []\n",
    "# labels = []\n",
    "# for image in os.listdir(DATA_PATH):\n",
    "#   print(\"image: \", image)\n",
    "#   if \".png\" not in image:\n",
    "#     continue\n",
    "#   file_path = DATA_PATH + '/' + image\n",
    "#   img = Image.open(file_path)\n",
    "#   img.load()\n",
    "#   img_data = np.asarray(img)\n",
    "#   img_resized = cv2.resize(img_data, (32, 32), interpolation = cv2.INTER_CUBIC)\n",
    "#   finalImage = cleanGrayscaleImage(img_resized)\n",
    "#   # add image to dataset\n",
    "#   X.append(finalImage)\n",
    "#   # add label to labels\n",
    "#   labelName = image.replace(\".png\", \"\")\n",
    "#   labels.append(labelName)\n",
    "\n",
    "# N = len(X) # number of images\n",
    "# img_size = len(X[0]) # width of image\n",
    "# X = np.asarray(X).reshape(N, img_size, img_size,1) # add our single channel for processing purposes\n",
    "# labels_cat = to_categorical(list(map(lambda x: ord(x)-ord('A'), labels)), 10) # convert to one-hot\n",
    "# labels = np.asarray(list(map(lambda x: ord(x)-ord('A'), labels)))\n",
    "\n",
    "# print(N)\n",
    "# print(img_size)\n",
    "# print(labels_cat)\n",
    "# print(labels)"
   ]
  },
  {
   "cell_type": "code",
   "execution_count": 0,
   "metadata": {
    "colab": {
     "base_uri": "https://localhost:8080/",
     "height": 374
    },
    "colab_type": "code",
    "id": "M1BjpTUJpHzW",
    "outputId": "b59113c6-bf8f-4d61-fd43-e17173d5e078"
   },
   "outputs": [
    {
     "name": "stdout",
     "output_type": "stream",
     "text": [
      "Baseline accuracy:  1.0\n",
      "[[9.9971837e-01 1.2265701e-05 8.0323443e-06 7.9802103e-06 1.4644912e-05\n",
      "  1.6322512e-04 1.8406939e-05 4.3629912e-05 9.2451364e-06 4.1759172e-06]]\n",
      "[[1.1098920e-05 9.9981898e-01 1.5289381e-05 1.0057413e-04 9.9302115e-06\n",
      "  2.0143129e-06 1.7953824e-05 9.8644514e-06 1.3132653e-05 1.1618282e-06]]\n",
      "[[1.9382293e-04 4.0788214e-05 9.9788922e-01 1.0038068e-04 3.1356537e-04\n",
      "  3.2136235e-05 1.1915142e-03 3.6242109e-05 1.5719433e-04 4.5109831e-05]]\n",
      "[[4.1130257e-05 6.4505811e-04 5.4975731e-05 9.9867320e-01 9.6079741e-05\n",
      "  5.5510576e-05 6.8453577e-05 4.9763061e-05 2.2520988e-04 9.0600937e-05]]\n",
      "[[3.0517880e-05 1.5153828e-04 1.9141551e-04 4.3604294e-05 9.9869031e-01\n",
      "  4.2303238e-04 9.0614238e-05 8.4760562e-05 7.5960692e-05 2.1831234e-04]]\n",
      "[[3.6062778e-04 6.7167603e-05 1.0999459e-04 3.4521701e-05 8.3477743e-04\n",
      "  9.9783427e-01 4.5360552e-04 1.5811632e-04 5.2585223e-05 9.4296971e-05]]\n",
      "[[2.1033791e-06 5.9534153e-07 1.7963595e-05 1.0207775e-06 1.8769761e-06\n",
      "  1.6559771e-06 9.9997211e-01 6.5631940e-07 1.0600952e-06 8.7347865e-07]]\n",
      "[[2.5385330e-05 1.6755654e-05 9.6094718e-06 7.1375584e-06 1.8296441e-05\n",
      "  2.0874477e-05 1.2780943e-05 9.9984539e-01 3.0938128e-05 1.2787563e-05]]\n",
      "[[0.0016847  0.00339938 0.00397663 0.00250427 0.00188429 0.00146906\n",
      "  0.00217272 0.00188057 0.97176605 0.00926237]]\n",
      "[[1.6112588e-05 5.8452838e-06 8.4785343e-06 8.6338687e-06 1.8625484e-05\n",
      "  1.1240329e-04 9.9209601e-06 4.1388198e-06 1.7729172e-03 9.9804294e-01]]\n"
     ]
    }
   ],
   "source": [
    "baseline_score = model.evaluate(X, labels_cat, verbose = 0)\n",
    "print(\"Baseline accuracy: \", baseline_score[1])\n",
    "\n",
    "for sample in range(10):\n",
    "  prediction = model.predict(np.asarray([X[sample]]))\n",
    "  print(prediction)"
   ]
  },
  {
   "cell_type": "markdown",
   "metadata": {
    "colab_type": "text",
    "id": "6X9SQyOHNHSD"
   },
   "source": [
    "Evaluate model on bubbled images"
   ]
  },
  {
   "cell_type": "markdown",
   "metadata": {
    "colab_type": "text",
    "id": "iUjhtouaNKc0"
   },
   "source": [
    "Function to load all images in a given directory\n"
   ]
  },
  {
   "cell_type": "code",
   "execution_count": 10,
   "metadata": {
    "colab": {},
    "colab_type": "code",
    "id": "qXYi9xxbsR1q"
   },
   "outputs": [],
   "source": [
    "def readImagesAndLabelsInDirectory(path):\n",
    "  X = []\n",
    "  labels = []\n",
    "  for directory in os.listdir(path):\n",
    "    if \".\" in directory:\n",
    "        continue\n",
    "    for image in os.listdir(path + \"/\" + directory):\n",
    "      if \".png\" not in image:\n",
    "        continue\n",
    "      file_path = path + '/' + directory + \"/\" + image\n",
    "      img = Image.open(file_path)\n",
    "      img.load()\n",
    "      img_resized = img.resize((32, 32), resample = PIL.Image.LANCZOS)\n",
    "      img_data = np.asarray(img_resized)\n",
    "      finalImage = cleanGrayscaleImage(img_data)\n",
    "      # add image to dataset\n",
    "      X.append(finalImage)\n",
    "      # add label to labels\n",
    "      labels.append(directory)\n",
    "\n",
    "  N = len(X) # number of images\n",
    "  img_size = len(X[0]) # width of image\n",
    "  X = np.asarray(X).reshape(N, img_size, img_size,1) # add our single channel for processing purposes\n",
    "  labels_cat = to_categorical(list(map(lambda x: ord(x)-ord('A'), labels)), 10) # convert to one-hot\n",
    "  labels = np.asarray(list(map(lambda x: ord(x)-ord('A'), labels)))\n",
    "  return [X, labels, labels_cat]"
   ]
  },
  {
   "cell_type": "code",
   "execution_count": 305,
   "metadata": {
    "colab": {
     "base_uri": "https://localhost:8080/",
     "height": 34
    },
    "colab_type": "code",
    "id": "n1nbIB6UODcT",
    "outputId": "3a75da37-fd6c-433a-e430-aa52ade56207"
   },
   "outputs": [
    {
     "name": "stdout",
     "output_type": "stream",
     "text": [
      "Number of bubbles:  10\n",
      "[[112   4  13   1   7  39 111   1 307 405]\n",
      " [ 25  20  63   1  77  75 190   9 318 222]\n",
      " [  1   0 160   0   0   1   7   5 495 331]\n",
      " [ 10   0  63   7   0   2  62  39 351 466]\n",
      " [  4   2  28   0  52  77 157   6 347 327]\n",
      " [  1   1   7   0   3 189 118  10 261 410]\n",
      " [  7   0  87   1  18   4 318  16 212 337]\n",
      " [ 32   3  14   0  12  35 174  73 228 429]\n",
      " [  0   0   3   0   6   0   2   0 850 139]\n",
      " [  0   0  17   0   1   5  82   0 158 737]]\n",
      "10000/10000 [==============================] - 9s 862us/step\n",
      "Accuracy:  0.251800000667572\n",
      "-----------------\n",
      "Number of bubbles:  15\n",
      "[[355   8   9   0   5 103  98   0 154 268]\n",
      " [ 40  90  48   9 136 100 293  33 159  92]\n",
      " [  6   0 348   1   2   3  14   6 377 243]\n",
      " [ 23   0 101  71   1   2  64  98 263 377]\n",
      " [  8   8  40   2 182 160 221   5 198 176]\n",
      " [  2   2   1   0   2 565 105   6  95 222]\n",
      " [  8   2  85   0  43   7 547  23  91 194]\n",
      " [ 61   9   0   0  12  66 235 275  91 251]\n",
      " [  0   0   4   0   6   0   0   0 956  34]\n",
      " [  0   0  19   0   1  19  94   0 116 751]]\n",
      "10000/10000 [==============================] - 7s 723us/step\n",
      "Accuracy:  0.414000004529953\n",
      "-----------------\n",
      "Number of bubbles:  20\n",
      "[[635   8   7   0   5  97  70   0  56 122]\n",
      " [ 29 254  38  15 203  59 278  36  61  27]\n",
      " [  0   0 669   0   2   1  12   4 205 107]\n",
      " [  8   0 107 273   1   5  65 125 137 279]\n",
      " [ 10   7  35   2 380 195 259   2  65  45]\n",
      " [  3   1   2   0   1 850  38   4  25  76]\n",
      " [  1   0  54   0  53   3 799   2  18  70]\n",
      " [ 61  10   0   1   4  58 186 563  28  89]\n",
      " [  0   0   1   0   7   0   0   0 982  10]\n",
      " [  0   0   6   0   3  24  81   0  43 843]]\n",
      "10000/10000 [==============================] - 8s 799us/step\n",
      "Accuracy:  0.6248000264167786\n",
      "-----------------\n",
      "Number of bubbles:  25\n",
      "[[865   5   3   0   2  53  27   0   8  37]\n",
      " [ 14 471  16  10 195  27 227  19  18   3]\n",
      " [  0   0 895   0   1   0   4   1  80  19]\n",
      " [  3   0  57 585   1  10  85  63  71 125]\n",
      " [  1   5  24   0 628 134 182   1  20   5]\n",
      " [  0   0   0   0   0 978   8   2   5   7]\n",
      " [  2   0  23   0  22   1 940   1   4   7]\n",
      " [ 26   7   0   1   2  26  96 810   9  23]\n",
      " [  0   0   0   0   3   0   0   0 995   2]\n",
      " [  0   0   4   0   3  17  38   0  13 925]]\n",
      "10000/10000 [==============================] - 8s 758us/step\n",
      "Accuracy:  0.8091999888420105\n",
      "-----------------\n",
      "Number of bubbles:  30\n",
      "[[972   0   1   0   1  16   5   0   0   5]\n",
      " [  5 669   5   4 154   7 142   9   5   0]\n",
      " [  0   0 976   0   0   0   0   0  18   6]\n",
      " [  3   0  36 800   2   2  37  44  27  49]\n",
      " [  1   0   5   0 831  77  83   0   1   2]\n",
      " [  0   0   0   0   0 999   1   0   0   0]\n",
      " [  0   0   6   0  11   0 981   0   1   1]\n",
      " [  5   2   0   0   1   6  37 946   0   3]\n",
      " [  0   0   1   0   1   0   0   0 998   0]\n",
      " [  0   0   2   0   1   9  20   0   4 964]]\n",
      "10000/10000 [==============================] - 6s 649us/step\n",
      "Accuracy:  0.9136000275611877\n",
      "-----------------\n"
     ]
    }
   ],
   "source": [
    "allNumBubbles = list(range(5, 45, 5))\n",
    "BUBBLE_DATA_PATH = \"english_new_stim_1000Each\"\n",
    "\n",
    "for numBubbles in allNumBubbles:\n",
    "  print(\"Number of bubbles: \", numBubbles)\n",
    "  path = BUBBLE_DATA_PATH + \"/\" + str(numBubbles)\n",
    "  X, y_true, y_true_cat = readImagesAndLabelsInDirectory(path)\n",
    "  y_pred = np.argmax(model.predict(X), axis=1)\n",
    "  print(confusion_matrix(y_true,y_pred))\n",
    "  print(\"Accuracy: \", model.evaluate(X, y_true_cat)[1])\n",
    "  print(\"-----------------\")"
   ]
  },
  {
   "cell_type": "markdown",
   "metadata": {},
   "source": [
    "Average confidence for each class (i.e., average value for each neuron in the final softmax layer)"
   ]
  },
  {
   "cell_type": "code",
   "execution_count": 306,
   "metadata": {},
   "outputs": [
    {
     "name": "stdout",
     "output_type": "stream",
     "text": [
      "Number of bubbles:  10\n",
      "[[ 9.82  5.97  7.61  4.95  7.3   7.93 11.79  4.77 17.37 22.49]\n",
      " [ 6.88  5.88 10.26  5.63 10.01  9.8  14.11  5.36 16.84 15.22]\n",
      " [ 6.42  5.65 12.35  6.54  6.88  6.15  8.99  5.65 20.48 20.89]\n",
      " [ 7.7   5.45  9.1   7.83  6.13  6.47  9.42  7.06 17.88 22.97]\n",
      " [ 5.87  4.64  8.69  5.42  8.84 10.4  12.03  4.6  19.09 20.43]\n",
      " [ 4.95  4.32  5.58  4.7   5.35 16.27 11.23  4.7  17.9  25.  ]\n",
      " [ 6.39  4.68 11.54  4.96  8.05  6.96 18.78  5.5  12.88 20.27]\n",
      " [ 8.17  5.26  7.44  6.08  6.35  8.57 12.48  7.6  16.08 21.96]\n",
      " [ 4.26  4.68  6.54  3.69  5.77  3.53  5.92  2.86 44.72 18.02]\n",
      " [ 4.45  3.91  9.01  4.18  5.04  5.76 11.57  3.37 16.43 36.28]]\n",
      "--------------------------\n",
      "Number of bubbles:  15\n",
      "[[19.13  6.46  7.01  4.83  7.36 10.   11.1   5.73 12.36 16.01]\n",
      " [ 6.93  8.93 10.33  5.25 12.97 10.65 17.82  6.07 11.54  9.51]\n",
      " [ 6.63  5.25 17.86  6.73  8.61  6.46  9.6   5.99 17.34 15.54]\n",
      " [ 8.45  5.34 10.   10.51  6.62  6.7   9.94  9.33 14.66 18.46]\n",
      " [ 5.39  4.89  9.55  4.97 14.73 14.96 15.39  4.26 13.22 12.66]\n",
      " [ 3.98  3.58  4.15  3.53  4.54 38.68 11.52  3.87 10.81 15.34]\n",
      " [ 6.17  4.07 12.03  4.52  9.26  7.01 28.35  5.75  8.95 13.89]\n",
      " [10.23  6.03  7.46  6.3   6.88  9.81 14.59 13.38 11.01 14.3 ]\n",
      " [ 3.43  3.66  4.89  2.74  5.57  2.8   3.93  2.25 59.19 11.54]\n",
      " [ 4.25  3.4   9.31  4.01  5.41  6.76 12.17  3.32 13.64 37.73]]\n",
      "--------------------------\n",
      "Number of bubbles:  20\n",
      "[[33.59  6.2   6.01  4.01  6.18 10.28  9.47  6.4   7.75 10.11]\n",
      " [ 6.31 18.15  8.95  4.64 16.55  7.83 18.33  6.2   7.66  5.37]\n",
      " [ 5.78  4.4  28.66  6.05  9.99  5.84  9.82  5.26 13.71 10.49]\n",
      " [ 7.92  5.06  9.88 15.98  6.45  6.39  9.66 10.25 12.77 15.64]\n",
      " [ 4.17  4.92  9.72  3.78 24.11 17.62 18.21  3.29  7.43  6.74]\n",
      " [ 2.82  2.5   2.54  2.14  3.28 62.74  8.32  2.78  5.4   7.49]\n",
      " [ 4.14  2.92 11.33  3.08  9.43  5.71 46.18  3.93  5.1   8.18]\n",
      " [11.53  6.18  6.54  5.65  6.34  9.06 13.65 23.43  8.03  9.57]\n",
      " [ 2.29  2.44  3.09  1.57  4.63  1.94  2.16  1.51 73.67  6.69]\n",
      " [ 3.69  2.74  8.06  3.53  5.13  7.16 11.85  2.95 10.65 44.25]]\n",
      "--------------------------\n",
      "Number of bubbles:  25\n",
      "[[53.37  4.84  4.23  2.79  4.22  8.14  6.28  6.3   4.23  5.6 ]\n",
      " [ 4.98 31.19  6.82  3.66 17.19  5.51 17.87  4.89  5.05  2.84]\n",
      " [ 4.58  3.31 43.2   4.91 10.42  4.48  9.03  3.78 10.1   6.19]\n",
      " [ 6.17  5.    8.52 27.73  5.79  5.76  9.07  9.22 10.76 11.98]\n",
      " [ 2.7   4.28  8.53  2.49 39.99 15.91 16.84  2.17  3.58  3.51]\n",
      " [ 1.29  1.2   1.02  0.89  1.78 84.07  4.43  1.47  1.72  2.13]\n",
      " [ 2.41  1.84  8.56  1.9   6.93  3.84 65.69  2.22  2.68  3.92]\n",
      " [11.24  5.51  4.96  4.2   5.21  7.46 10.54 39.44  5.34  6.11]\n",
      " [ 1.32  1.39  1.66  0.75  2.97  1.1   1.03  0.87 85.3   3.6 ]\n",
      " [ 2.86  2.12  6.33  2.88  4.37  6.62  9.51  2.35  8.54 54.43]]\n",
      "--------------------------\n",
      "Number of bubbles:  30\n",
      "[[71.7   3.04  2.53  1.65  2.37  5.29  3.42  5.15  2.04  2.81]\n",
      " [ 4.2  46.96  4.69  2.83 15.19  3.6  13.87  3.63  3.55  1.49]\n",
      " [ 3.24  2.26 58.08  3.81  9.17  3.05  7.69  2.44  6.5   3.77]\n",
      " [ 4.43  4.59  6.8  42.76  4.86  4.54  7.07  7.65  8.86  8.46]\n",
      " [ 1.64  3.42  6.51  1.56 56.95 12.42 12.47  1.34  1.71  1.99]\n",
      " [ 0.45  0.43  0.33  0.27  0.76 94.46  1.67  0.5   0.47  0.65]\n",
      " [ 1.24  1.05  5.66  1.01  4.58  2.22 80.11  1.06  1.35  1.72]\n",
      " [ 9.3   4.32  3.5   2.69  3.88  5.28  7.25 56.64  3.39  3.76]\n",
      " [ 0.65  0.69  0.78  0.32  1.47  0.53  0.45  0.46 93.01  1.65]\n",
      " [ 2.26  1.67  4.54  2.41  3.47  6.    7.11  1.91  6.63 63.99]]\n",
      "--------------------------\n"
     ]
    }
   ],
   "source": [
    "allNumBubbles = [10, 15, 20, 25, 30]\n",
    "\n",
    "\n",
    "for numBubbles in allNumBubbles:\n",
    "    print(\"Number of bubbles: \", numBubbles)\n",
    "    path = BUBBLE_DATA_PATH + \"/\" + str(numBubbles)\n",
    "    X, y_true, y_true_cat = readImagesAndLabelsInDirectory(path)\n",
    "    y_pred = model.predict(X)    \n",
    "    def x(groundTruth):\n",
    "        y_pred_for_this_groundtruth = y_pred[y_true[:] == groundTruth]\n",
    "        return np.mean(y_pred_for_this_groundtruth, axis=0)*100\n",
    "\n",
    "    all_y_pred = [x(groundTruth) for groundTruth in range(10)]\n",
    "    matrix = np.vstack(all_y_pred)\n",
    "    float_formatter = \"{:.2f}\".format\n",
    "    print(np.round(matrix, decimals=2))\n",
    "    print(\"--------------------------\")"
   ]
  },
  {
   "cell_type": "code",
   "execution_count": 49,
   "metadata": {},
   "outputs": [],
   "source": [
    "numBubbles = 25\n",
    "path = BUBBLE_DATA_PATH + \"/\" + str(numBubbles)\n",
    "X, y_true, y_true_cat = readImagesAndLabelsInDirectory(path)\n",
    "\n",
    "X_select = X[y_true[:] == 0]"
   ]
  },
  {
   "cell_type": "code",
   "execution_count": 52,
   "metadata": {},
   "outputs": [
    {
     "name": "stdout",
     "output_type": "stream",
     "text": [
      "(100, 32, 32, 1)\n"
     ]
    }
   ],
   "source": [
    "for directory in os.listdir(path):\n",
    "if \".\" in directory:\n",
    "    continue\n",
    "for image in os.listdir(path + \"/\" + directory):\n",
    "  if \".png\" not in image:\n",
    "    continue\n",
    "  file_path = path + '/' + directory + \"/\" + image\n",
    "  img = Image.open(file_path)\n",
    "  img.load()\n",
    "  img_resized = img.resize((32, 32), resample = PIL.Image.LANCZOS)\n",
    "  img_data = np.asarray(img_resized)\n",
    "  finalImage = cleanGrayscaleImage(img_data)\n",
    "  # add image to dataset\n",
    "  X.append(finalImage)\n",
    "  # add label to labels\n",
    "  labels.append(directory)\n"
   ]
  },
  {
   "cell_type": "markdown",
   "metadata": {},
   "source": [
    "Generate diagnostic planes"
   ]
  },
  {
   "cell_type": "code",
   "execution_count": 167,
   "metadata": {},
   "outputs": [],
   "source": [
    "import numpy as np\n",
    "import scipy.stats\n",
    "\n",
    "\n",
    "def getConfidenceIntervalThreshold(data, confidence=0.95):\n",
    "    a = 1.0 * np.array(data).flatten()\n",
    "    n = len(a)\n",
    "    m, se = np.mean(a), scipy.stats.sem(a)\n",
    "    h = se * scipy.stats.t.ppf((1 + confidence) / 2., n-1)\n",
    "    return m+h"
   ]
  },
  {
   "cell_type": "code",
   "execution_count": 189,
   "metadata": {},
   "outputs": [
    {
     "name": "stdout",
     "output_type": "stream",
     "text": [
      "Alphabet: A, Num bubbles: 40, accuracy: 0.948\n"
     ]
    },
    {
     "ename": "TypeError",
     "evalue": "'AxesSubplot' object is not subscriptable",
     "output_type": "error",
     "traceback": [
      "\u001b[0;31m---------------------------------------------------------------------------\u001b[0m",
      "\u001b[0;31mTypeError\u001b[0m                                 Traceback (most recent call last)",
      "\u001b[0;32m<ipython-input-189-3b710609be38>\u001b[0m in \u001b[0;36m<module>\u001b[0;34m\u001b[0m\n\u001b[1;32m     53\u001b[0m \u001b[0;34m\u001b[0m\u001b[0m\n\u001b[1;32m     54\u001b[0m         \u001b[0mprint\u001b[0m\u001b[0;34m(\u001b[0m\u001b[0;34m\"Alphabet: {}, Num bubbles: {}, accuracy: {}\"\u001b[0m\u001b[0;34m.\u001b[0m\u001b[0mformat\u001b[0m\u001b[0;34m(\u001b[0m\u001b[0malphabet\u001b[0m\u001b[0;34m,\u001b[0m \u001b[0mnumBubbles\u001b[0m\u001b[0;34m,\u001b[0m \u001b[0maccuracy\u001b[0m\u001b[0;34m)\u001b[0m\u001b[0;34m)\u001b[0m\u001b[0;34m\u001b[0m\u001b[0;34m\u001b[0m\u001b[0m\n\u001b[0;32m---> 55\u001b[0;31m         \u001b[0max\u001b[0m\u001b[0;34m[\u001b[0m\u001b[0mrow\u001b[0m\u001b[0;34m]\u001b[0m\u001b[0;34m[\u001b[0m\u001b[0mcolumn\u001b[0m\u001b[0;34m]\u001b[0m\u001b[0;34m.\u001b[0m\u001b[0mtick_params\u001b[0m\u001b[0;34m(\u001b[0m\u001b[0maxis\u001b[0m\u001b[0;34m=\u001b[0m\u001b[0;34m'both'\u001b[0m\u001b[0;34m,\u001b[0m \u001b[0mwhich\u001b[0m\u001b[0;34m=\u001b[0m\u001b[0;34m'both'\u001b[0m\u001b[0;34m,\u001b[0m \u001b[0mbottom\u001b[0m\u001b[0;34m=\u001b[0m\u001b[0;32mFalse\u001b[0m\u001b[0;34m,\u001b[0m \u001b[0mtop\u001b[0m\u001b[0;34m=\u001b[0m\u001b[0;32mFalse\u001b[0m\u001b[0;34m,\u001b[0m \u001b[0mlabelbottom\u001b[0m\u001b[0;34m=\u001b[0m\u001b[0;32mFalse\u001b[0m\u001b[0;34m,\u001b[0m \u001b[0mlabelleft\u001b[0m\u001b[0;34m=\u001b[0m\u001b[0;32mFalse\u001b[0m\u001b[0;34m)\u001b[0m\u001b[0;34m\u001b[0m\u001b[0;34m\u001b[0m\u001b[0m\n\u001b[0m\u001b[1;32m     56\u001b[0m         \u001b[0max\u001b[0m\u001b[0;34m[\u001b[0m\u001b[0mrow\u001b[0m\u001b[0;34m]\u001b[0m\u001b[0;34m[\u001b[0m\u001b[0mcolumn\u001b[0m\u001b[0;34m]\u001b[0m\u001b[0;34m.\u001b[0m\u001b[0mset_title\u001b[0m\u001b[0;34m(\u001b[0m\u001b[0;34m\"%.2f\"\u001b[0m\u001b[0;34m%\u001b[0m\u001b[0;34m(\u001b[0m\u001b[0maccuracy\u001b[0m\u001b[0;34m*\u001b[0m\u001b[0;36m100\u001b[0m\u001b[0;34m)\u001b[0m\u001b[0;34m)\u001b[0m\u001b[0;34m\u001b[0m\u001b[0;34m\u001b[0m\u001b[0m\n\u001b[1;32m     57\u001b[0m         \u001b[0max\u001b[0m\u001b[0;34m[\u001b[0m\u001b[0mrow\u001b[0m\u001b[0;34m]\u001b[0m\u001b[0;34m[\u001b[0m\u001b[0mcolumn\u001b[0m\u001b[0;34m]\u001b[0m\u001b[0;34m.\u001b[0m\u001b[0mimshow\u001b[0m\u001b[0;34m(\u001b[0m\u001b[0mclipped\u001b[0m\u001b[0;34m,\u001b[0m \u001b[0mcmap\u001b[0m\u001b[0;34m=\u001b[0m\u001b[0;34m'gray'\u001b[0m\u001b[0;34m)\u001b[0m\u001b[0;34m\u001b[0m\u001b[0;34m\u001b[0m\u001b[0m\n",
      "\u001b[0;31mTypeError\u001b[0m: 'AxesSubplot' object is not subscriptable"
     ]
    },
    {
     "data": {
      "image/png": "[encoded data removed]",
      "text/plain": [
       "<Figure size 1152x1152 with 1 Axes>"
      ]
     },
     "metadata": {
      "needs_background": "light"
     },
     "output_type": "display_data"
    }
   ],
   "source": [
    "BUBBLE_DATA_PATH = \"english_new_stim_1000Each\"\n",
    "\n",
    "def loadImage(path, resize):\n",
    "    img = Image.open(path)\n",
    "    img.load()\n",
    "    if resize == True:\n",
    "        img_resized = img.resize((32, 32), resample = PIL.Image.LANCZOS)\n",
    "    else:\n",
    "        img_resized = img\n",
    "    img_data = np.asarray(img_resized)\n",
    "#     finalImage = cleanGrayscaleImage(img_data)\n",
    "    \n",
    "#     return finalImage\n",
    "    return img_data\n",
    "\n",
    "\n",
    "allNumBubbles = [40]#list(range(5, 45, 5))\n",
    "allAlphabets = [\"A\"]#, 'B', \"C\", \"D\", \"E\", \"F\", \"G\", \"H\", \"I\", \"J\"]\n",
    "fig, ax = plt.subplots(len(allNumBubbles), len(allAlphabets))\n",
    "fig.set_size_inches(16, 16)\n",
    "\n",
    "for row in range(len(allNumBubbles)):\n",
    "    for column in range(len(allAlphabets)):\n",
    "        numBubbles = allNumBubbles[row]\n",
    "        alphabet = allAlphabets[column]\n",
    "        correctStim = []\n",
    "        incorrectStim = []\n",
    "        for i in range(1000):\n",
    "            file_path = BUBBLE_DATA_PATH + \"/\" + str(numBubbles) + \"/\" + alphabet + \"/\" + str(i) + \".png\"\n",
    "            bubbledStim = loadImage(file_path, True)\n",
    "            plt.imshow(bubbledStim, cmap='gray')\n",
    "            isCorrect = np.argmax(model.predict(bubbledStim.reshape((1, 32, 32, 1)))) == ord(alphabet) - ord(\"A\")\n",
    "#             print(isCorrect)\n",
    "            maskPath = BUBBLE_DATA_PATH + \"/\" + str(numBubbles) + \"/\" + alphabet + \"/\" + \"filter/\" + str(i) + \".png\"\n",
    "            mask = loadImage(maskPath, False)\n",
    "            if isCorrect:\n",
    "                correctStim.append(mask)    \n",
    "            else:\n",
    "                incorrectStim.append(mask)   \n",
    "        totalStim = correctStim + incorrectStim\n",
    "        accuracy = len(correctStim)/len(totalStim)\n",
    "        correctPlane = np.sum(correctStim, axis=0)\n",
    "        totalPlane = np.sum(np.array(totalStim), axis=0)\n",
    "        proportionPlane = np.divide(correctPlane, totalPlane)\n",
    "        clipped = proportionPlane.copy()\n",
    "        clippingThreshold = getConfidenceIntervalThreshold(proportionPlane, 0.99)\n",
    "        clipped[clipped[:, :] < clippingThreshold] = 0\n",
    "#         clipped[clipped[:, :] < np.quantile(proportionPlane, 0.95)] = 0\n",
    "        originalImagePath = \"/Users/nishadsinghi/chetan_sir/finalStim100Each/{}.png\".format(alphabet)\n",
    "        originalImage = Image.open(originalImagePath)\n",
    "        originalImageResized = originalImage.resize((224, 224), resample = PIL.Image.LANCZOS)\n",
    "        final = np.multiply(clipped,originalImageResized)\n",
    "        \n",
    "        print(\"Alphabet: {}, Num bubbles: {}, accuracy: {}\".format(alphabet, numBubbles, accuracy))\n",
    "        ax[row][column].tick_params(axis='both', which='both', bottom=False, top=False, labelbottom=False, labelleft=False)\n",
    "        ax[row][column].set_title(\"%.2f\"%(accuracy*100))\n",
    "        ax[row][column].imshow(clipped, cmap='gray')\n",
    "    \n",
    "#     clipped_img = Image.fromarray(clipped * 255)\n",
    "#     if clipped_img.mode != 'RGB':\n",
    "#         clipped_img = clipped_img.convert('RGB')\n",
    "#     clipped_img.save(\"diagnostic/{}_filter.png\".format(alphabet))\n",
    "#     final_img = Image.fromarray(final)\n",
    "#     if final_img.mode != 'RGB':\n",
    "#         final_img = final_img.convert('RGB')\n",
    "#     final_img.save(\"diagnostic/{}.png\".format(alphabet))\n",
    "\n",
    "\n",
    "# plt.savefig('CNN_english_allDiagnosticPlanes.png')"
   ]
  },
  {
   "cell_type": "code",
   "execution_count": 200,
   "metadata": {},
   "outputs": [
    {
     "data": {
      "text/plain": [
       "<matplotlib.image.AxesImage at 0x1a57d42650>"
      ]
     },
     "execution_count": 200,
     "metadata": {},
     "output_type": "execute_result"
    },
    {
     "data": {
      "image/png": "[encoded data removed]",
      "text/plain": [
       "<Figure size 432x288 with 1 Axes>"
      ]
     },
     "metadata": {
      "needs_background": "light"
     },
     "output_type": "display_data"
    }
   ],
   "source": [
    "plt.imshow(proportionPlane, cmap='gray')\n",
    "# plt.imshow(np.multiply(incorrectStim[22],originalImageResized), cmap='gray')"
   ]
  },
  {
   "cell_type": "code",
   "execution_count": 15,
   "metadata": {},
   "outputs": [
    {
     "data": {
      "text/plain": [
       "<matplotlib.image.AxesImage at 0x1a46a54690>"
      ]
     },
     "execution_count": 15,
     "metadata": {},
     "output_type": "execute_result"
    },
    {
     "data": {
      "image/png": "[encoded data removed]",
      "text/plain": [
       "<Figure size 432x288 with 1 Axes>"
      ]
     },
     "metadata": {
      "needs_background": "light"
     },
     "output_type": "display_data"
    }
   ],
   "source": [
    "clipped = proportionPlane.copy()\n",
    "clipped[clipped[:, :] < 0.709] = 0\n",
    "plt.imshow(clipped, cmap='gray')"
   ]
  },
  {
   "cell_type": "code",
   "execution_count": 47,
   "metadata": {},
   "outputs": [
    {
     "data": {
      "text/plain": [
       "<matplotlib.image.AxesImage at 0x1a3f063850>"
      ]
     },
     "execution_count": 47,
     "metadata": {},
     "output_type": "execute_result"
    },
    {
     "data": {
      "image/png": "[encoded data removed]",
      "text/plain": [
       "<Figure size 432x288 with 1 Axes>"
      ]
     },
     "metadata": {
      "needs_background": "light"
     },
     "output_type": "display_data"
    }
   ],
   "source": [
    "originalImagePath = \"/Users/nishadsinghi/chetan_sir/finalStim100Each/B.png\"\n",
    "originalImage = Image.open(originalImagePath)\n",
    "originalImageResized = originalImage.resize((224, 224), resample = PIL.Image.LANCZOS)\n",
    "final = np.multiply(clipped,originalImageResized)\n",
    "plt.imshow(final, cmap='gray')"
   ]
  },
  {
   "cell_type": "code",
   "execution_count": null,
   "metadata": {},
   "outputs": [],
   "source": []
  }
 ],
 "metadata": {
  "colab": {
   "name": "notMNIST classification.ipynb",
   "provenance": []
  },
  "kernelspec": {
   "display_name": "MLEnv",
   "language": "python",
   "name": "mlenv"
  },
  "language_info": {
   "codemirror_mode": {
    "name": "ipython",
    "version": 3
   },
   "file_extension": ".py",
   "mimetype": "text/x-python",
   "name": "python",
   "nbconvert_exporter": "python",
   "pygments_lexer": "ipython3",
   "version": "3.7.7"
  }
 },
 "nbformat": 4,
 "nbformat_minor": 1
}
